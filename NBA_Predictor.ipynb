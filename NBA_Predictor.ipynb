{
  "nbformat": 4,
  "nbformat_minor": 0,
  "metadata": {
    "colab": {
      "provenance": [],
      "toc_visible": true,
      "authorship_tag": "ABX9TyOdsDE5XNQ3R8O3eJ72IcZl"
    },
    "kernelspec": {
      "name": "python3",
      "display_name": "Python 3"
    },
    "language_info": {
      "name": "python"
    }
  },
  "cells": [
    {
      "cell_type": "markdown",
      "source": [
        "## Scraping NBA MVPs from Basketball-Reference"
      ],
      "metadata": {
        "id": "Idozzg1Echn4"
      }
    },
    {
      "cell_type": "code",
      "execution_count": 16,
      "metadata": {
        "id": "UBgxsqvRAc68"
      },
      "outputs": [],
      "source": [
        "import requests\n",
        "from bs4 import BeautifulSoup\n",
        "import pandas as pd"
      ]
    },
    {
      "cell_type": "markdown",
      "source": [
        "Creating list of ranges from 1991 - 2021\n",
        "<br /> Needs to be seperated for request volume limit of 30"
      ],
      "metadata": {
        "id": "0lC65Q8Xc943"
      }
    },
    {
      "cell_type": "code",
      "source": [
        "years = list(range(1991, 2010))\n",
        "years2 = list(range(2011, 2022))"
      ],
      "metadata": {
        "id": "K85TB_NfBJcn"
      },
      "execution_count": 15,
      "outputs": []
    },
    {
      "cell_type": "markdown",
      "source": [
        "Getting url for website to scrap, using {} so it can be looped"
      ],
      "metadata": {
        "id": "S2kEvWc6d3U8"
      }
    },
    {
      "cell_type": "code",
      "source": [
        "url_start = \"https://www.basketball-reference.com/awards/awards_{}.html\""
      ],
      "metadata": {
        "id": "-8VA2IXsBN1A"
      },
      "execution_count": null,
      "outputs": []
    },
    {
      "cell_type": "markdown",
      "source": [
        "Looping over both ranges once to get data stored in a folder using requests and writes"
      ],
      "metadata": {
        "id": "9ReA9xx3eHLj"
      }
    },
    {
      "cell_type": "code",
      "source": [
        "for year in years2:\n",
        "  url = url_start.format(year) #replaces {} with the year in loop\n",
        "  data = requests.get(url) #getting html data from the page\n",
        "\n",
        "  with open(\"mvp/{}.html\".format(year), \"w+\") as f: #creates a file in the folder then is given writing permission\n",
        "    f.write(data.text) #writes html into file"
      ],
      "metadata": {
        "id": "qMR_7lLoBUq_"
      },
      "execution_count": 18,
      "outputs": []
    },
    {
      "cell_type": "markdown",
      "source": [
        "Looping every table and storing them in a dataframes after parsing and finding the tables. Add a year column to keep track of which table it is"
      ],
      "metadata": {
        "id": "k1CrfxVufbgc"
      }
    },
    {
      "cell_type": "code",
      "source": [
        "mvp_all = [] #initialises dataframe\n",
        "for year in years:\n",
        "  with open(\"mvp/{}.html\".format(year)) as f: #looks at file but only for reading (by default)\n",
        "    page = f.read()\n",
        "  soup = BeautifulSoup(page, \"html.parser\") #using BeautifulSoup to parse html\n",
        "  soup.find(\"tr\", class_=\"over_header\").decompose() #removing the header of the table\n",
        "  mvp_table = soup.find(id=\"mvp\") #finds the mvp table and puts it in a list\n",
        "  mvp = pd.read_html(str(mvp_table))[0] #Get the first table in the list of dataframes\n",
        "  mvp[\"Year\"] = year\n",
        "\n",
        "  mvp_all.append(mvp)"
      ],
      "metadata": {
        "id": "3JzmwEp_I9l2"
      },
      "execution_count": 33,
      "outputs": []
    },
    {
      "cell_type": "code",
      "source": [
        "mvps = pd.concat(mvp_all)"
      ],
      "metadata": {
        "id": "2qxVHgyUJKpH"
      },
      "execution_count": 28,
      "outputs": []
    },
    {
      "cell_type": "code",
      "source": [
        "mvps.to_csv(\"mvps.csv\")"
      ],
      "metadata": {
        "id": "c2vxTHLGTlru"
      },
      "execution_count": 31,
      "outputs": []
    }
  ]
}